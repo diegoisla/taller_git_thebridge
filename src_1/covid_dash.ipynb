{
 "cells": [
  {
   "cell_type": "code",
   "execution_count": 1,
   "metadata": {},
   "outputs": [
    {
     "ename": "SyntaxError",
     "evalue": "invalid syntax (CreatorTemp/ipykernel_16028/544129961.py, line 7)",
     "output_type": "error",
     "traceback": [
      "\u001b[1;36m  File \u001b[1;32m\"C:\\Users\\Public\\Documents\\Wondershare\\CreatorTemp/ipykernel_16028/544129961.py\"\u001b[1;36m, line \u001b[1;32m7\u001b[0m\n\u001b[1;33m    ing-python-plotly-library-and-web-service-145f50d204f0\u001b[0m\n\u001b[1;37m                                ^\u001b[0m\n\u001b[1;31mSyntaxError\u001b[0m\u001b[1;31m:\u001b[0m invalid syntax\n"
     ]
    }
   ],
   "source": [
    "import plotly.graph_objects as go\n",
    "from plotly.subplots import make_subplots\n",
    "import pandas as pd\n",
    "import requests\n",
    "from datetime import datetime\n",
    "#https://towardsdatascience.com/building-a-real-time-dashboard-us\n",
    "ing-python-plotly-library-and-web-service-145f50d204f0\n",
    "raw=\n",
    "requests.get(\"https://services1.arcgis.com/0MSEUqKaxRlEPj5g/arcgi\n",
    "s/rest/services/Coronavirus_2019_nCoV_Cases/FeatureServer/1/query\n",
    "?where=1%3D1&outFields=*&outSR=4326&f=json\")\n",
    "raw_json = raw.json()\n",
    "df = pd.DataFrame(raw_json[\"features\"])\n",
    "data_list = df[\"attributes\"].tolist()\n",
    "df_final = pd.DataFrame(data_list)\n",
    "df_final.set_index(\"OBJECTID\")\n",
    "df_final = df_final[[\"Country_Region\", \"Province_State\", \"Lat\",\n",
    "\"Long_\", \"Confirmed\", \"Deaths\", \"Recovered\", \"Last_Update\"]]"
   ]
  }
 ],
 "metadata": {
  "interpreter": {
   "hash": "684b1123683431d89d3bfe9a89cc763215f4b8cd94b4aba1fb40ad45ff7c8b41"
  },
  "kernelspec": {
   "display_name": "Python 3.7.4 64-bit",
   "language": "python",
   "name": "python3"
  },
  "language_info": {
   "codemirror_mode": {
    "name": "ipython",
    "version": 3
   },
   "file_extension": ".py",
   "mimetype": "text/x-python",
   "name": "python",
   "nbconvert_exporter": "python",
   "pygments_lexer": "ipython3",
   "version": "3.7.4"
  },
  "orig_nbformat": 4
 },
 "nbformat": 4,
 "nbformat_minor": 2
}
